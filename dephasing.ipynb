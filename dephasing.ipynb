{
 "cells": [
  {
   "cell_type": "code",
   "execution_count": 3,
   "metadata": {},
   "outputs": [
    {
     "name": "stderr",
     "output_type": "stream",
     "text": [
      "configrc.store_credentials:WARNING:2023-01-16 11:59:47,326: Credentials already present. Set overwrite=True to overwrite.\n"
     ]
    }
   ],
   "source": [
    "from qiskit import IBMQ\n",
    "from qiskit import *\n",
    "from qiskit.compiler import transpile, assemble\n",
    "from qiskit.providers.ibmq import least_busy\n",
    "import numpy as np\n",
    "from qiskit.tools.monitor import job_monitor\n",
    "import matplotlib.pyplot as plt\n",
    "\n",
    "IBMQ.save_account('4a0a818b1d1a7766e8274535f2e9a7a4a625d381fec20e64c9fc1daaaed0b4b205a81931a0ba343e844dc85c8a32cf4a99dfc298aea947d1492c77bdcd18311f')"
   ]
  },
  {
   "cell_type": "code",
   "execution_count": 5,
   "metadata": {},
   "outputs": [
    {
     "name": "stdout",
     "output_type": "stream",
     "text": [
      "Least busy backend: ibmq_manila\n"
     ]
    }
   ],
   "source": [
    "IBMQ.load_account() # Load account from disk\n",
    "provider = IBMQ.get_provider(hub='ibm-q')\n",
    "\n",
    "# Pick least busy backend\n",
    "small_devices = provider.backends(min_num_qubits=5, simulator=False, operational=True)\n",
    "backend = least_busy(small_devices)\n",
    "print(f'Least busy backend: {backend}')"
   ]
  },
  {
   "cell_type": "code",
   "execution_count": 9,
   "metadata": {},
   "outputs": [
    {
     "name": "stdout",
     "output_type": "stream",
     "text": [
      "1\n"
     ]
    }
   ],
   "source": [
    "count_histo = []\n",
    "times = np.arange(0, 500, 50)\n",
    "### Build circuit\n",
    "for t in times:\n",
    "    print(t)\n",
    "    q = QuantumRegister(1, 'q')\n",
    "    c = ClassicalRegister(1, 'c')\n",
    "    circuit = circuit = QuantumCircuit(q, c)\n",
    "\n",
    "    circuit.h(q[0])\n",
    "    circuit.delay(283, unit=\"us\") # Delay of t microseconds   \n",
    "    circuit.h(q[0])\n",
    "\n",
    "    circuit.measure(q[0],c[0]) \n",
    "\n",
    "    # Translate circuit\n",
    "    mapped_circuit = transpile(circuit, backend=backend, scheduling_method='alap')\n",
    "\n",
    "    # Run circuit\n",
    "    job = backend.run(mapped_circuit, shots=10000)\n",
    "    job_monitor(job)\n",
    "    result = job.result()\n",
    "    counts = result.get_counts()\n",
    "    count_histo.append(counts)\n"
   ]
  },
  {
   "cell_type": "code",
   "execution_count": 4,
   "metadata": {},
   "outputs": [
    {
     "name": "stdout",
     "output_type": "stream",
     "text": [
      "[  0  50 100 150 200 250 300 350 400 450]\n"
     ]
    }
   ],
   "source": [
    "times = np.arange(0, 500, 50)\n",
    "for t in times:\n",
    "    print(t)\n",
    "    print(type(t))\n",
    "    print(type(283))"
   ]
  },
  {
   "cell_type": "code",
   "execution_count": null,
   "metadata": {},
   "outputs": [],
   "source": [
    "_ = plt.plot(times, count_histo)"
   ]
  }
 ],
 "metadata": {
  "kernelspec": {
   "display_name": "Python 3.10.6 64-bit",
   "language": "python",
   "name": "python3"
  },
  "language_info": {
   "codemirror_mode": {
    "name": "ipython",
    "version": 3
   },
   "file_extension": ".py",
   "mimetype": "text/x-python",
   "name": "python",
   "nbconvert_exporter": "python",
   "pygments_lexer": "ipython3",
   "version": "3.10.6"
  },
  "orig_nbformat": 4,
  "vscode": {
   "interpreter": {
    "hash": "916dbcbb3f70747c44a77c7bcd40155683ae19c65e1c03b4aa3499c5328201f1"
   }
  }
 },
 "nbformat": 4,
 "nbformat_minor": 2
}
