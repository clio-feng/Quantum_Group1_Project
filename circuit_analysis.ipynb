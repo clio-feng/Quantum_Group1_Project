{
 "cells": [
  {
   "cell_type": "code",
   "execution_count": 1,
   "metadata": {},
   "outputs": [
    {
     "name": "stderr",
     "output_type": "stream",
     "text": [
      "configrc.store_credentials:WARNING:2023-01-17 10:52:55,409: Credentials already present. Set overwrite=True to overwrite.\n"
     ]
    }
   ],
   "source": [
    "from qiskit import IBMQ\n",
    "IBMQ.save_account('4a0a818b1d1a7766e8274535f2e9a7a4a625d381fec20e64c9fc1daaaed0b4b205a81931a0ba343e844dc85c8a32cf4a99dfc298aea947d1492c77bdcd18311f')"
   ]
  },
  {
   "cell_type": "code",
   "execution_count": 8,
   "metadata": {},
   "outputs": [
    {
     "name": "stderr",
     "output_type": "stream",
     "text": [
      "ibmqfactory.load_account:WARNING:2023-01-17 11:04:17,324: Credentials are already in use. The existing account in the session will be replaced.\n"
     ]
    },
    {
     "data": {
      "text/plain": [
       "<AccountProvider for IBMQ(hub='ibm-q', group='open', project='main')>"
      ]
     },
     "execution_count": 8,
     "metadata": {},
     "output_type": "execute_result"
    }
   ],
   "source": [
    "from qiskit import *\n",
    "from qiskit.compiler import transpile, assemble\n",
    "from qiskit.providers.ibmq import least_busy\n",
    "import numpy as np\n",
    "IBMQ.load_account() # Load account from disk"
   ]
  },
  {
   "cell_type": "code",
   "execution_count": 7,
   "metadata": {},
   "outputs": [
    {
     "name": "stdout",
     "output_type": "stream",
     "text": [
      "[<IBMQBackend('ibm_nairobi') from IBMQ(hub='ibm-q', group='open', project='main')>, <IBMQBackend('ibm_oslo') from IBMQ(hub='ibm-q', group='open', project='main')>]\n",
      "Least busy backend: ibm_nairobi\n"
     ]
    }
   ],
   "source": [
    "provider = IBMQ.get_provider(hub='ibm-q')\n",
    "\n",
    "# Select Nairobi and Oslo\n",
    "small_devices = provider.backends(min_num_qubits=7, simulator=False, operational=True)\n",
    "backend = least_busy(small_devices) # Pick least busy one\n",
    "print(f'Least busy backend: {backend}')"
   ]
  },
  {
   "cell_type": "code",
   "execution_count": null,
   "metadata": {},
   "outputs": [],
   "source": [
    "### Build circuit\n",
    "circuits = []\n",
    "\n",
    "# Translate circuit\n",
    "mapped_circuits = [transpile(circuit, backend=backend) for circuit in circuits]\n"
   ]
  },
  {
   "cell_type": "code",
   "execution_count": null,
   "metadata": {},
   "outputs": [],
   "source": [
    "count_list = []\n",
    "# Run circuit\n",
    "for map_circ in mapped_circuits:\n",
    "\n",
    "    job = backend.run(map_circ, shots=10000)\n",
    "    result = job.result()\n",
    "    counts = result.get_counts()\n",
    "    count_list.append(counts)"
   ]
  },
  {
   "cell_type": "code",
   "execution_count": null,
   "metadata": {},
   "outputs": [],
   "source": [
    "no_err_corr_count = count_list[0]\n",
    "stds = []\n",
    "accuracies = []\n",
    "for counts in count_list:\n",
    "    accuracy = counts[3]\n",
    "    accuracies.append(accuracy)\n",
    "\n",
    "    std = np.std(np.array(no_err_corr_count, counts))\n",
    "    stds.append(std)\n",
    "\n",
    "\n"
   ]
  },
  {
   "cell_type": "code",
   "execution_count": null,
   "metadata": {},
   "outputs": [],
   "source": [
    "for i in range(len(stds)):\n",
    "    print(f'Circuit {i}: std = {stds[i]}, acc = {accuracies[i]}')"
   ]
  }
 ],
 "metadata": {
  "kernelspec": {
   "display_name": "Python 3.10.6 64-bit",
   "language": "python",
   "name": "python3"
  },
  "language_info": {
   "codemirror_mode": {
    "name": "ipython",
    "version": 3
   },
   "file_extension": ".py",
   "mimetype": "text/x-python",
   "name": "python",
   "nbconvert_exporter": "python",
   "pygments_lexer": "ipython3",
   "version": "3.10.6"
  },
  "orig_nbformat": 4,
  "vscode": {
   "interpreter": {
    "hash": "916dbcbb3f70747c44a77c7bcd40155683ae19c65e1c03b4aa3499c5328201f1"
   }
  }
 },
 "nbformat": 4,
 "nbformat_minor": 2
}
