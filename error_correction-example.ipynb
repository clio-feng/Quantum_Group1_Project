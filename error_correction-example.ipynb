{
 "cells": [
  {
   "cell_type": "code",
   "execution_count": 1,
   "id": "97cc075c-e7d6-4c24-aff8-9a8ef1ce0023",
   "metadata": {},
   "outputs": [
    {
     "name": "stderr",
     "output_type": "stream",
     "text": [
      "<frozen importlib._bootstrap>:219: RuntimeWarning: scipy._lib.messagestream.MessageStream size changed, may indicate binary incompatibility. Expected 56 from C header, got 64 from PyObject\n"
     ]
    }
   ],
   "source": [
    "import numpy as np\n",
    "\n",
    "# Importing standard Qiskit libraries\n",
    "from qiskit import QuantumCircuit, transpile, Aer, IBMQ\n",
    "from qiskit.tools.jupyter import *\n",
    "from qiskit.visualization import *\n",
    "from ibm_quantum_widgets import *\n",
    "from qiskit.providers.aer import QasmSimulator\n",
    "\n",
    "# Loading your IBM Quantum account(s)\n",
    "provider = IBMQ.load_account()"
   ]
  },
  {
   "cell_type": "code",
   "execution_count": 12,
   "id": "6631d464-0ab0-4ff1-b3de-973c293a0906",
   "metadata": {},
   "outputs": [
    {
     "name": "stdout",
     "output_type": "stream",
     "text": [
      "\u001b[31mERROR: Could not find a version that satisfies the requirement collections.abc\u001b[0m\n",
      "\u001b[31mERROR: No matching distribution found for collections.abc\u001b[0m\n"
     ]
    }
   ],
   "source": []
  },
  {
   "cell_type": "code",
   "execution_count": 52,
   "id": "972d6588-3b26-42f2-8977-5c5cf11734ce",
   "metadata": {},
   "outputs": [],
   "source": [
    "from qiskit import QuantumCircuit\n",
    "# from qiskit.circuit import Diagonal\n",
    "# from qiskit.circuit.library.generalized_gates import diagonal as Diagonal\n",
    "from qiskit.circuit.library import Diagonal\n",
    "# from . import diagonal\n",
    "# from qiskit.circuit.quantumcircuit import Diagonal\n",
    "from collections.abc import Iterable\n",
    "from math import sqrt,pi"
   ]
  },
  {
   "cell_type": "code",
   "execution_count": null,
   "id": "15ae552a-bac2-4022-8686-3731eebf1efd",
   "metadata": {},
   "outputs": [],
   "source": []
  },
  {
   "cell_type": "code",
   "execution_count": 53,
   "id": "8f5fb70b-be33-4369-a047-9fb424ad3c24",
   "metadata": {},
   "outputs": [],
   "source": [
    "def initialize( qc: QuantumCircuit, qubits: Iterable):\n",
    "    for q in qubits:\n",
    "        qc.h(q)\n",
    "    return qc"
   ]
  },
  {
   "cell_type": "code",
   "execution_count": 101,
   "id": "778eae62-2302-4357-9c8f-e58ac73291c8",
   "metadata": {},
   "outputs": [],
   "source": [
    "def generalized_oracle(n: int, desired: int):\n",
    "    diagonal_elements = [1]*(2**n)\n",
    "    diagonal_elements[desired] = -1\n",
    "    oracle_gate = Diagonal(diagonal_elements)\n",
    "    oracle_gate.name = f\"Oracle\\nn={n}\\ns=$|{format(desired, '0%ib' % n)}\\\\rangle$ (={desired})\"\n",
    "    return oracle_gate\n",
    "\n",
    "def diffuser(nqubits:int, as_gate=True):\n",
    "    qc= QuantumCircuit(nqubits)\n",
    "    for qubit in range(nqubits):\n",
    "        qc.h(qubit)\n",
    "    for qubit in range(nqubits):\n",
    "        qc.x(qubit)\n",
    "    qc.h(nqubits-1)\n",
    "    for qubit in range(nqubits):\n",
    "        qc.x(qubit)\n",
    "    for qubit in range(nqubits):\n",
    "        qc.h(qubit)\n",
    "    if as_gate:\n",
    "        U_s = qc.to_gate()\n",
    "    else:\n",
    "        U_s = qc\n",
    "    U_s.name = \"U$_s$\"\n",
    "    return U_s\n",
    "\n",
    "def phase_flip_encode(nlogical: int\n",
    "                      , physical1:Iterable, physical2: Iterable, physical3:Iterable):\n",
    "    \n",
    "    qc = QuantumCircuit(nlogical*3)\n",
    "    for q in range(nlogical):\n",
    "        qc.cx(physical1[q], physical2[q])\n",
    "        qc.cx(physical1[q], physical3[q])\n",
    "        qc.h(physical1[q])\n",
    "        qc.h(physical2[q])\n",
    "        qc.h(physical3[q])\n",
    "    return qc\n",
    "\n",
    "def phase_flip_decode(nlogical: int\n",
    "                      , physical1:Iterable, physical2: Iterable, physical3:Iterable):\n",
    "    \n",
    "    qc = QuantumCircuit(nlogical*3)\n",
    "    # 2 logical qubits\n",
    "    for q in range(nlogical):\n",
    "        qc.cx(physical1[q], physical2[q])\n",
    "        qc.cx(physical1[q], physical3[q])\n",
    "        qc.ccx(physical3[q], physical2[q], physical1[q])\n",
    "    return qc\n",
    "\n",
    "def uncorrected_grover(n: int, desired: int):\n",
    "    qc = QuantumCircuit( n,n )\n",
    "    all_wires = range(n)\n",
    "    initialize(qc, all_wires)\n",
    "    grover_oracle = generalized_oracle( n, desired)\n",
    "    grover_diffuser = diffuser(n)\n",
    "    N = 2**n\n",
    "    reps = int(pi/4*sqrt(N))\n",
    "    for i in range(reps):\n",
    "        qc.append(grover_oracle, all_wires)\n",
    "        qc.append(grover_diffuser, all_wires)\n",
    "    qc.measure( all_wires, all_wires)\n",
    "    return qc\n",
    "\n",
    "def phase_flip_error_corrected_grover(n: int, desired: int, force_one_error: bool = False):\n",
    "    wires = [[],[],[]]\n",
    "    for i in [0, 1, 2]:\n",
    "        wires[i] = range(i*n, (i+1)*n)\n",
    "    all_wires = range(n*3)\n",
    "    qc = QuantumCircuit(n*3, n)\n",
    "    pfenc = phase_flip_encode(n, wires[0], wires[1], wires[2])\n",
    "    print(pfenc)\n",
    "    return pfenc\n",
    "    pfenc.name = 'Phase flip correction encode'\n",
    "    qc.append(pfenc, all_wires)\n",
    "    \n",
    "    qc.barrier()\n",
    "\n",
    "    grover_oracle = generalized_oracle(n, desired)\n",
    "\n",
    "    grover_diffuser = diffuser(n)\n",
    "\n",
    "    N = 2**n\n",
    "\n",
    "    if force_one_error:\n",
    "        group = np.random.randint(3)\n",
    "        wire = np.random.radint(n)\n",
    "        qc.z(wires[group][wire])\n",
    "    reps = int(pi/4**sqrt(N))\n",
    "    for i in range(reps):\n",
    "        qc.append(grover_oracle, wires[0])\n",
    "        qc.append(grover_diffuser, wires[0])\n",
    "        qc.append(grover_oracle, wires[1])\n",
    "        qc.append(gorver_difuser, wires[1])\n",
    "        qc.append(grover_oracle, wires[2])\n",
    "        qc.append(grover_diffuser , wires[2])\n",
    "    \n",
    "    qc.barrier()\n",
    "    pfdec = phase_flip_decode(n, wires[0], wires[1], wires[2])\n",
    "    \n",
    "    pfdec.name = 'Phase flip correction'\n",
    "    print(pfdec)\n",
    "    qc.append(pfdec, all_wires)\n",
    "    qc.measure(wires[0], wires[0])\n",
    "    return qc\n",
    "    \n",
    "        "
   ]
  },
  {
   "cell_type": "code",
   "execution_count": 111,
   "id": "8f91e51c-12f0-4c4d-9d4b-e45694fcc700",
   "metadata": {},
   "outputs": [
    {
     "name": "stdout",
     "output_type": "stream",
     "text": [
      "0\n"
     ]
    }
   ],
   "source": [
    "wires = [[], [], []]\n",
    "for i in [0, 1, 2]:\n",
    "    wires[i] = range(i*2, (i+1)*2)\n",
    "    \n",
    "print(wires[0][0])\n",
    "# phase_flip_encode(2, wires[0], wires[1], wires[2]).draw()"
   ]
  },
  {
   "cell_type": "code",
   "execution_count": 103,
   "id": "e0f42ceb-2b0e-4c81-ae56-e304a52b3761",
   "metadata": {},
   "outputs": [
    {
     "name": "stdout",
     "output_type": "stream",
     "text": [
      "                    ┌───┐          \n",
      "q_0: ──■─────────■──┤ H ├──────────\n",
      "       │         │  └───┘     ┌───┐\n",
      "q_1: ──┼────■────┼─────────■──┤ H ├\n",
      "     ┌─┴─┐  │    │  ┌───┐  │  └───┘\n",
      "q_2: ┤ X ├──┼────┼──┤ H ├──┼───────\n",
      "     └───┘┌─┴─┐  │  ├───┤  │       \n",
      "q_3: ─────┤ X ├──┼──┤ H ├──┼───────\n",
      "          └───┘┌─┴─┐├───┤  │       \n",
      "q_4: ──────────┤ X ├┤ H ├──┼───────\n",
      "               └───┘└───┘┌─┴─┐┌───┐\n",
      "q_5: ────────────────────┤ X ├┤ H ├\n",
      "                         └───┘└───┘\n"
     ]
    },
    {
     "data": {
      "image/png": "[encoded data removed]",
      "text/plain": [
       "<Figure size 447.797x385.28 with 1 Axes>"
      ]
     },
     "execution_count": 103,
     "metadata": {},
     "output_type": "execute_result"
    }
   ],
   "source": [
    "phase_flip_error_corrected_grover(2, 1).draw()"
   ]
  },
  {
   "cell_type": "code",
   "execution_count": null,
   "id": "16b44f4a-3684-4bd6-8f85-ea5bf72fdb52",
   "metadata": {},
   "outputs": [],
   "source": []
  }
 ],
 "metadata": {
  "kernelspec": {
   "display_name": "Python 3 (ipykernel)",
   "language": "python",
   "name": "python3"
  },
  "language_info": {
   "codemirror_mode": {
    "name": "ipython",
    "version": 3
   },
   "file_extension": ".py",
   "mimetype": "text/x-python",
   "name": "python",
   "nbconvert_exporter": "python",
   "pygments_lexer": "ipython3",
   "version": "3.8.13"
  },
  "widgets": {
   "application/vnd.jupyter.widget-state+json": {
    "state": {
     "0d3abf81403c4b538f540b8627956500": {
      "model_module": "@jupyter-widgets/controls",
      "model_module_version": "1.5.0",
      "model_name": "DescriptionStyleModel",
      "state": {
       "description_width": ""
      }
     },
     "1130cedac4de47d9b767d0ec9d1c0572": {
      "model_module": "@jupyter-widgets/base",
      "model_module_version": "1.2.0",
      "model_name": "LayoutModel",
      "state": {}
     },
     "11fba0ac29734ca49ef47ce472480496": {
      "model_module": "@jupyter-widgets/controls",
      "model_module_version": "1.5.0",
      "model_name": "ButtonStyleModel",
      "state": {}
     },
     "22673786798f4c288c373cab5ca02b37": {
      "model_module": "@jupyter-widgets/controls",
      "model_module_version": "1.5.0",
      "model_name": "HTMLModel",
      "state": {
       "layout": "IPY_MODEL_4e5696aa3b4d4fd1aa3d7e95f220ff55",
       "style": "IPY_MODEL_de54eea667a044c498934ae4fbf4907a",
       "value": "<h5>Backend</h5>"
      }
     },
     "29d7c7be332b41a0b970c776b2cda67c": {
      "model_module": "@jupyter-widgets/controls",
      "model_module_version": "1.5.0",
      "model_name": "DescriptionStyleModel",
      "state": {
       "description_width": ""
      }
     },
     "3e8d2e7ea4694c12abb3dc250512995a": {
      "model_module": "@jupyter-widgets/controls",
      "model_module_version": "1.5.0",
      "model_name": "DescriptionStyleModel",
      "state": {
       "description_width": ""
      }
     },
     "4c7a66cbc65a4385a173f1189e15c9bf": {
      "model_module": "@jupyter-widgets/controls",
      "model_module_version": "1.5.0",
      "model_name": "HTMLModel",
      "state": {
       "layout": "IPY_MODEL_c892e12d0bb44f10a22ba92b57ab921c",
       "style": "IPY_MODEL_d416859419004736a5cf7da3e8fdbd05",
       "value": "<h5>Job ID</h5>"
      }
     },
     "4e5696aa3b4d4fd1aa3d7e95f220ff55": {
      "model_module": "@jupyter-widgets/base",
      "model_module_version": "1.2.0",
      "model_name": "LayoutModel",
      "state": {
       "width": "145px"
      }
     },
     "57381f99e9b7497aa3c5f51d306b48b3": {
      "model_module": "@jupyter-widgets/controls",
      "model_module_version": "1.5.0",
      "model_name": "HTMLModel",
      "state": {
       "layout": "IPY_MODEL_6e92561c9dd9442a88dc570eaced76dc",
       "style": "IPY_MODEL_29d7c7be332b41a0b970c776b2cda67c",
       "value": "<p style='font-family: IBM Plex Sans, Arial, Helvetica, sans-serif; font-size: 20px; font-weight: medium;'>Circuit Properties</p>"
      }
     },
     "61f1c7cc1c044a84b59ba068cdb64ff7": {
      "model_module": "@jupyter-widgets/controls",
      "model_module_version": "1.5.0",
      "model_name": "HBoxModel",
      "state": {
       "children": [
        "IPY_MODEL_4c7a66cbc65a4385a173f1189e15c9bf",
        "IPY_MODEL_22673786798f4c288c373cab5ca02b37",
        "IPY_MODEL_678d402d9ce14e49a675be029df7725e",
        "IPY_MODEL_c0fdf03292334471a0997c20997462cd",
        "IPY_MODEL_61fd10502c89493bb34dd41a61103b0b"
       ],
       "layout": "IPY_MODEL_9ca99ecf7d57488ba6683bba992bad4d"
      }
     },
     "61fd10502c89493bb34dd41a61103b0b": {
      "model_module": "@jupyter-widgets/controls",
      "model_module_version": "1.5.0",
      "model_name": "HTMLModel",
      "state": {
       "layout": "IPY_MODEL_1130cedac4de47d9b767d0ec9d1c0572",
       "style": "IPY_MODEL_0d3abf81403c4b538f540b8627956500",
       "value": "<h5>Message</h5>"
      }
     },
     "678d402d9ce14e49a675be029df7725e": {
      "model_module": "@jupyter-widgets/controls",
      "model_module_version": "1.5.0",
      "model_name": "HTMLModel",
      "state": {
       "layout": "IPY_MODEL_83bf34344079480db358835b13a8b0be",
       "style": "IPY_MODEL_b8b9330eeec74fac9c2a9d1e4edf6afb",
       "value": "<h5>Status</h5>"
      }
     },
     "6e92561c9dd9442a88dc570eaced76dc": {
      "model_module": "@jupyter-widgets/base",
      "model_module_version": "1.2.0",
      "model_name": "LayoutModel",
      "state": {
       "margin": "0px 0px 10px 0px"
      }
     },
     "70d0fc1b13ca40ac852ef99910998498": {
      "model_module": "@jupyter-widgets/controls",
      "model_module_version": "1.5.0",
      "model_name": "ButtonModel",
      "state": {
       "button_style": "primary",
       "description": "Clear",
       "layout": "IPY_MODEL_abe872aa24734df39d3eb38ab0de7de6",
       "style": "IPY_MODEL_11fba0ac29734ca49ef47ce472480496"
      }
     },
     "83bf34344079480db358835b13a8b0be": {
      "model_module": "@jupyter-widgets/base",
      "model_module_version": "1.2.0",
      "model_name": "LayoutModel",
      "state": {
       "width": "95px"
      }
     },
     "9ca99ecf7d57488ba6683bba992bad4d": {
      "model_module": "@jupyter-widgets/base",
      "model_module_version": "1.2.0",
      "model_name": "LayoutModel",
      "state": {
       "margin": "0px 0px 0px 37px",
       "width": "600px"
      }
     },
     "abe872aa24734df39d3eb38ab0de7de6": {
      "model_module": "@jupyter-widgets/base",
      "model_module_version": "1.2.0",
      "model_name": "LayoutModel",
      "state": {
       "grid_area": "right",
       "padding": "0px 0px 0px 0px",
       "width": "70px"
      }
     },
     "b8b9330eeec74fac9c2a9d1e4edf6afb": {
      "model_module": "@jupyter-widgets/controls",
      "model_module_version": "1.5.0",
      "model_name": "DescriptionStyleModel",
      "state": {
       "description_width": ""
      }
     },
     "c0fdf03292334471a0997c20997462cd": {
      "model_module": "@jupyter-widgets/controls",
      "model_module_version": "1.5.0",
      "model_name": "HTMLModel",
      "state": {
       "layout": "IPY_MODEL_e0073ca9048841cda9ee128f8151ae8d",
       "style": "IPY_MODEL_3e8d2e7ea4694c12abb3dc250512995a",
       "value": "<h5>Queue</h5>"
      }
     },
     "c892e12d0bb44f10a22ba92b57ab921c": {
      "model_module": "@jupyter-widgets/base",
      "model_module_version": "1.2.0",
      "model_name": "LayoutModel",
      "state": {
       "width": "190px"
      }
     },
     "cfd6c8b7e0094566885ab4eea792965e": {
      "model_module": "@jupyter-widgets/controls",
      "model_module_version": "1.5.0",
      "model_name": "GridBoxModel",
      "state": {
       "children": [
        "IPY_MODEL_70d0fc1b13ca40ac852ef99910998498"
       ],
       "layout": "IPY_MODEL_ea33a7c370a94531831a0ba90d3e5d32"
      }
     },
     "d416859419004736a5cf7da3e8fdbd05": {
      "model_module": "@jupyter-widgets/controls",
      "model_module_version": "1.5.0",
      "model_name": "DescriptionStyleModel",
      "state": {
       "description_width": ""
      }
     },
     "de54eea667a044c498934ae4fbf4907a": {
      "model_module": "@jupyter-widgets/controls",
      "model_module_version": "1.5.0",
      "model_name": "DescriptionStyleModel",
      "state": {
       "description_width": ""
      }
     },
     "e0073ca9048841cda9ee128f8151ae8d": {
      "model_module": "@jupyter-widgets/base",
      "model_module_version": "1.2.0",
      "model_name": "LayoutModel",
      "state": {
       "width": "70px"
      }
     },
     "ea33a7c370a94531831a0ba90d3e5d32": {
      "model_module": "@jupyter-widgets/base",
      "model_module_version": "1.2.0",
      "model_name": "LayoutModel",
      "state": {
       "grid_template_areas": "\n                                       \". . . . right \"\n                                        ",
       "grid_template_columns": "20% 20% 20% 20% 20%",
       "width": "100%"
      }
     }
    },
    "version_major": 2,
    "version_minor": 0
   }
  }
 },
 "nbformat": 4,
 "nbformat_minor": 5
}
